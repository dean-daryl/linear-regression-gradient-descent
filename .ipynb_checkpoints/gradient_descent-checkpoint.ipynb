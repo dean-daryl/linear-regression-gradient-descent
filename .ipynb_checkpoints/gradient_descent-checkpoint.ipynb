{
 "cells": [
  {
   "cell_type": "code",
   "execution_count": null,
   "id": "2c6764b0-52f7-453b-8ba7-004d03516e92",
   "metadata": {},
   "outputs": [],
   "source": []
  },
  {
   "cell_type": "code",
   "execution_count": 47,
   "id": "91708a26-eb9e-4540-8b7a-d5f25d524c45",
   "metadata": {},
   "outputs": [],
   "source": [
    "import numpy as np\n",
    "import matplotlib.pyplot as plt"
   ]
  },
  {
   "cell_type": "code",
   "execution_count": null,
   "id": "e34ac49a-f86f-4b04-a061-aec1b673923d",
   "metadata": {},
   "outputs": [],
   "source": []
  },
  {
   "cell_type": "code",
   "execution_count": 48,
   "id": "4f1ddd25-2d67-4646-895c-2b6a17af7302",
   "metadata": {},
   "outputs": [],
   "source": [
    "m_history = []\n",
    "b_history = []"
   ]
  },
  {
   "cell_type": "code",
   "execution_count": 49,
   "id": "a01f9175-9a95-4e28-a52a-1ecb0dae048f",
   "metadata": {},
   "outputs": [],
   "source": [
    "m_history = []\n",
    "b_history = []"
   ]
  },
  {
   "cell_type": "code",
   "execution_count": 50,
   "id": "72b08979-fe37-41de-9fa1-bcba618ea622",
   "metadata": {},
   "outputs": [],
   "source": [
    "'''\n",
    "    Define a simple data set let x be hours studied and y be the score\n",
    "'''\n",
    "x = np.array([1, 2, 3, 4, 5])\n",
    "y = np.array([3, 4, 2, 5, 6])\n"
   ]
  },
  {
   "cell_type": "raw",
   "id": "cf44c625-4f94-41b8-a464-6b0489f0de13",
   "metadata": {},
   "source": [
    "#Initialize parameters\n",
    "\n",
    "m = 0.0 \n",
    "b = 0.0\n",
    "\n",
    "#Hyper parameters for gradient descent\n",
    "\n",
    "alpha = 0.01 #learning rate\n",
    "max_iterations = 1000\n",
    "tolerance = 1e-6  #threshold for stopping the iterations if cost change is very small\n"
   ]
  },
  {
   "cell_type": "code",
   "execution_count": 51,
   "id": "abc65e6b-cc77-4c5c-a899-b5d105caadc5",
   "metadata": {},
   "outputs": [],
   "source": [
    "m_history = []\n",
    "b_history = []"
   ]
  },
  {
   "cell_type": "code",
   "execution_count": 52,
   "id": "b5c5b2b2-5d26-4bdd-9bec-f0dab6938c3e",
   "metadata": {},
   "outputs": [],
   "source": [
    "''' initialize the first prev_cost to positive infinity to make sure any computed cost during the first iteration is smaller.\n",
    "'''\n",
    "\n",
    "prev_cost = float('inf') "
   ]
  },
  {
   "cell_type": "code",
   "execution_count": 53,
   "id": "188fcc6e-1224-4126-ab56-4e61c15e5673",
   "metadata": {
    "scrolled": true
   },
   "outputs": [
    {
     "name": "stdout",
     "output_type": "stream",
     "text": [
      "Convergence reached after 1 iterations.\n"
     ]
    }
   ],
   "source": [
    "''' Gradient descent loop\n",
    "'''\n",
    "\n",
    "for i in range(max_iterations):\n",
    "    \n",
    "    ''' note that multiplying a scalar value with a numpy array works fine, element-wise operations are automatically applied hence no reason for an explicit loop\n",
    "    '''\n",
    "    y_pred =  m*x + b\n",
    "\n",
    "    '''calculate mean squared error\n",
    "    '''\n",
    "    \n",
    "    cost = (1/len(x)) * np.sum((y-y_pred) ** 2)\n",
    "    \n",
    "    if abs(prev_cost - cost) < tolerance:\n",
    "        print(f\"Convergence reached after {i} iterations.\")\n",
    "        break\n",
    "        \n",
    "    prev_cost = cost\n",
    "\n",
    "    dm =(-2 / len(x)) * np.sum(x * (y - y_pred))\n",
    "    db = (-2 / len(x)) * np.sum( y - y_pred)\n",
    "\n",
    "    m = m - alpha * dm\n",
    "    b = b - alpha * db\n",
    "\n",
    "    m_history.append(m)\n",
    "    b_history.append(b)"
   ]
  },
  {
   "cell_type": "code",
   "execution_count": 54,
   "id": "6f9e88d6-03c0-41fd-8ffc-210b15936667",
   "metadata": {},
   "outputs": [
    {
     "name": "stdout",
     "output_type": "stream",
     "text": [
      "Final slope (m): 0.7078262369307535\n",
      "Final intercept (b): 1.871744801428449\n",
      "Final predictions: [2.57957104 3.28739728 3.99522351 4.70304975 5.41087599]\n"
     ]
    },
    {
     "data": {
      "image/png": "[encoded data removed]",
      "text/plain": [
       "<Figure size 1000x500 with 2 Axes>"
      ]
     },
     "metadata": {},
     "output_type": "display_data"
    }
   ],
   "source": [
    "'''\n",
    "    After convergence (or after max iterations), compute final predictions\n",
    "'''\n",
    "\n",
    "y_final_pred = m * x + b\n",
    "\n",
    "'''\n",
    "    Print final parameters and predictions\n",
    "'''\n",
    "print(\"Final slope (m):\", m)\n",
    "print(\"Final intercept (b):\", b)\n",
    "print(\"Final predictions:\", y_final_pred)\n",
    "\n",
    "'''\n",
    "    Visualize how m and b changed over iterations using matplotlib\n",
    "'''    \n",
    "plt.figure(figsize=(10, 5))\n",
    "\n",
    "'''\n",
    "    Plot evolution of m\n",
    "'''\n",
    "plt.subplot(1, 2, 1)\n",
    "plt.plot(m_history, label='m (slope)', color='blue')\n",
    "plt.xlabel('Iteration')\n",
    "plt.ylabel('Value of m')\n",
    "plt.title('Evolution of m')\n",
    "plt.legend()\n",
    "\n",
    "'''\n",
    "    Plot evolution of b\n",
    "'''\n",
    "plt.subplot(1, 2, 2)\n",
    "plt.plot(b_history, label='b (intercept)', color='orange')\n",
    "plt.xlabel('Iteration')\n",
    "plt.ylabel('Value of b')\n",
    "plt.title('Evolution of b')\n",
    "plt.legend()\n",
    "\n",
    "plt.tight_layout()\n",
    "plt.show()"
   ]
  },
  {
   "cell_type": "code",
   "execution_count": null,
   "id": "cbc07084-74a9-4c8e-ad62-32979b4e8566",
   "metadata": {},
   "outputs": [],
   "source": []
  },
  {
   "cell_type": "code",
   "execution_count": null,
   "id": "f62f455d-2edd-47b6-8df7-256404a68e90",
   "metadata": {},
   "outputs": [],
   "source": []
  },
  {
   "cell_type": "code",
   "execution_count": null,
   "id": "74b0d3f4-01f0-4fed-9977-dc65692fc066",
   "metadata": {},
   "outputs": [],
   "source": []
  }
 ],
 "metadata": {
  "kernelspec": {
   "display_name": "Python 3 (ipykernel)",
   "language": "python",
   "name": "python3"
  },
  "language_info": {
   "codemirror_mode": {
    "name": "ipython",
    "version": 3
   },
   "file_extension": ".py",
   "mimetype": "text/x-python",
   "name": "python",
   "nbconvert_exporter": "python",
   "pygments_lexer": "ipython3",
   "version": "3.12.8"
  }
 },
 "nbformat": 4,
 "nbformat_minor": 5
}
